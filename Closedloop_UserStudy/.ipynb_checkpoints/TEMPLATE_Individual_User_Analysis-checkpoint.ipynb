{
 "cells": [
  {
   "cell_type": "code",
   "execution_count": null,
   "id": "3a84c41c",
   "metadata": {},
   "outputs": [],
   "source": [
    "import numpy as np\n",
    "import pandas as pd\n",
    "import h5py\n",
    "import matplotlib.pyplot as plt\n",
    "import copy\n",
    "\n",
    "import sys\n",
    "import os\n",
    "#project_root = os.path.abspath(os.path.join(os.getcwd(), '..', '..'))\n",
    "#sys.path.append(project_root)\n",
    "#from utils.analysis_funcs import *\n",
    "from analysis_funcs import *"
   ]
  },
  {
   "cell_type": "code",
   "execution_count": null,
   "id": "a7930a9f",
   "metadata": {},
   "outputs": [],
   "source": [
    "title_fontsize = 16\n",
    "labels_fontsize = 20\n",
    "ticks_fontsize = 16\n",
    "\n",
    "trial_alphaD = 1e-4\n",
    "trial_alphaE = 1e-6\n",
    "\n",
    "manual_update_ix = [    0,   878,  2080,  3282,  4484,  5686,  6888,  8090,  9292,\n",
    "       10494, 11696, 12898, 14100, 15302]"
   ]
  },
  {
   "cell_type": "markdown",
   "id": "55c70263-862a-4ec2-b0e0-42e920ce9afe",
   "metadata": {},
   "source": [
    "# Must set these!"
   ]
  },
  {
   "cell_type": "code",
   "execution_count": null,
   "id": "414723e7-667b-4d42-9671-b7268a1d3e64",
   "metadata": {},
   "outputs": [],
   "source": [
    "SUBJECT_STR = \n",
    "\n",
    "#BASEPATH_HOME = r''\n",
    "BASEPATH_BRC = r'D:\\\\Kai_CPHS_23_24\\\\lgrice_dir\\\\user_study\\\\' + SUBJECT_STR"
   ]
  },
  {
   "cell_type": "code",
   "execution_count": null,
   "id": "6c077942",
   "metadata": {},
   "outputs": [],
   "source": [
    "# FILE PATHS\n",
    "basepath = BASEPATH_BRC\n",
    "\n",
    "# BLOCK 1\n",
    "b1_c0_lri = basepath+f'\\\\weiner_IMWUT25_{SUBJECT_STR}_Block1_C0_local_random_init.h5'\n",
    "b1_c1_lpli = basepath+f'\\\\weiner_IMWUT25_{SUBJECT_STR}_Block1_C1_local_prev_local_init.h5'  \n",
    "b1_c2_lsi = basepath+f'\\\\weiner_IMWUT25_{SUBJECT_STR}_Block1_C2_local_sims_init.h5'\n",
    "b1_c3_st = basepath+f'\\\\weiner_IMWUT25_{SUBJECT_STR}_Block1_C3_StaticTrial.h5'\n",
    "b1_c4_pri = basepath+f'\\\\weiner_IMWUT25_{SUBJECT_STR}_Block1_C4_pfa_random_init.h5'\n",
    "b1_c5_psi = basepath+f'\\\\weiner_IMWUT25_{SUBJECT_STR}_Block1_C5_pfa_sims_init.h5'\n",
    "b1_c6_prr = basepath+f'\\\\weiner_IMWUT25_{SUBJECT_STR}_Block1_C6_pfa_running_random.h5'\n",
    "b1_c7_prs = basepath+f'\\\\weiner_IMWUT25_{SUBJECT_STR}_Block1_C7_pfa_running_sim.h5'\n",
    "\n",
    "# BLOCK 2\n",
    "b2_c0_lri = basepath+f'\\\\weiner_IMWUT25_{SUBJECT_STR}_Block2_C0_local_random_init.h5'\n",
    "b2_c1_lpli = basepath+f'\\\\weiner_IMWUT25_{SUBJECT_STR}_Block2_C1_local_prev_local_init.h5'  \n",
    "b2_c2_lsi = basepath+f'\\\\weiner_IMWUT25_{SUBJECT_STR}_Block2_C2_local_sims_init.h5'\n",
    "b2_c3_st = basepath+f'\\\\weiner_IMWUT25_{SUBJECT_STR}_Block2_C3_StaticTrial.h5'\n",
    "b2_c4_pri = basepath+f'\\weiner_IMWUT25_{SUBJECT_STR}_Block2_C4_pfa_random_init.h5'\n",
    "b2_c5_psi = basepath+f'\\weiner_IMWUT25_{SUBJECT_STR}_Block2_C5_pfa_sims_init.h5'\n",
    "b2_c6_prr = basepath+f'\\weiner_IMWUT25_{SUBJECT_STR}_Block2_C6_pfa_running_random.h5'\n",
    "b2_c7_prs = basepath+f'\\\\weiner_IMWUT25_{SUBJECT_STR}_Block2_C7_pfa_running_sim.h5'\n",
    "\n"
   ]
  },
  {
   "cell_type": "code",
   "execution_count": null,
   "id": "a7c7efce",
   "metadata": {},
   "outputs": [],
   "source": [
    "def user_analysis_plots(experiment_file, trial_name_str, static=False):\n",
    "    update_ix, unique_dec_lst, dec_lst, times_lst, emg_lst, pref_lst, pact_lst, vint_lst, vdec_lst = load_data(experiment_file, static=static)\n",
    "\n",
    "    _, _ = plot_time_domain_error(pref_lst, pact_lst, movavg_window_size=1001)\n",
    "\n",
    "    plot_single_initial_final_boxplot(update_ix, pref_lst, pact_lst, my_title=f\"{trial_name_str}: TD Pos Error Across Trial\")\n",
    "\n",
    "    plot_cost_function(emg_lst, dec_lst, pref_lst, pact_lst, alphaD=trial_alphaD, alphaE=trial_alphaE, plot_2nd_half_separately=True, plot_separately=True, plot_combined=True, remove_spikes=True)\n",
    "    \n",
    "    return update_ix, unique_dec_lst, dec_lst, times_lst, emg_lst, pref_lst, pact_lst, vint_lst, vdec_lst"
   ]
  },
  {
   "cell_type": "markdown",
   "id": "9ad8cf28",
   "metadata": {},
   "source": [
    "### Block 1"
   ]
  },
  {
   "cell_type": "code",
   "execution_count": null,
   "id": "60b3d272",
   "metadata": {},
   "outputs": [],
   "source": [
    "experiment_file0 = b1_c0_lri\n",
    "trial_name_str0 = \"b1_c0_lri\"\n",
    "update_ix0, unique_dec_lst0, dec_lst0, times_lst0, emg_lst0, pref_lst0, pact_lst0, vint_lst0, vdec_lst0 = user_analysis_plots(experiment_file0, trial_name_str0)"
   ]
  },
  {
   "cell_type": "code",
   "execution_count": null,
   "id": "5a5f8b03",
   "metadata": {},
   "outputs": [],
   "source": [
    "    experiment_file1 = b1_c1_lpli\n",
    "    trial_name_str1 = \"b1_c1_lpli\"\n",
    "    update_ix1, unique_dec_lst1, dec_lst1, times_lst1, emg_lst1, pref_lst1, pact_lst1, vint_lst1, vdec_lst1 = user_analysis_plots(experiment_file1, trial_name_str1)"
   ]
  },
  {
   "cell_type": "code",
   "execution_count": null,
   "id": "3890d9bb",
   "metadata": {},
   "outputs": [],
   "source": [
    "experiment_file2 = b1_c2_lsi\n",
    "trial_name_str2 = \"b1_c2_lsi\"\n",
    "update_ix2, unique_dec_lst2, dec_lst2, times_lst2, emg_lst2, pref_lst2, pact_lst2, vint_lst2, vdec_lst2 = user_analysis_plots(experiment_file2, trial_name_str2)"
   ]
  },
  {
   "cell_type": "code",
   "execution_count": null,
   "id": "fcc77297",
   "metadata": {},
   "outputs": [],
   "source": [
    "experiment_file3 = b1_c3_st\n",
    "trial_name_str3 = \"b1_c3_st\"\n",
    "STATIC = True\n",
    "update_ix3 = copy.deepcopy(manual_update_ix)\n",
    "\n",
    "_, _, dec_lst3, times_lst3, emg_lst3, pref_lst3, pact_lst3, vint_lst3, vdec_lst3 = load_data(experiment_file3, static=STATIC)\n",
    "_, _ = plot_time_domain_error(pref_lst3, pact_lst3, movavg_window_size=1001)\n",
    "\n",
    "print(f\"LEN TIMES: {len(times_lst3)}\")\n",
    "update_ix3.append(len(times_lst3))\n",
    "\n",
    "plot_single_initial_final_boxplot(update_ix3, pref_lst3, pact_lst3, my_title=f\"{trial_name_str3}: TD Pos Error Across Trial\")\n",
    "plot_cost_function(emg_lst3, dec_lst3, pref_lst3, pact_lst3, alphaD=trial_alphaD, alphaE=trial_alphaE, plot_2nd_half_separately=True, plot_separately=True, plot_combined=True, remove_spikes=True)\n"
   ]
  },
  {
   "cell_type": "code",
   "execution_count": null,
   "id": "8a27aeb4",
   "metadata": {},
   "outputs": [],
   "source": [
    "experiment_file4 = b1_c4_pri\n",
    "trial_name_str4 = \"b1_c4_pri\"\n",
    "update_ix4, unique_dec_lst4, dec_lst4, times_lst4, emg_lst4, pref_lst4, pact_lst4, vint_lst4, vdec_lst4 = user_analysis_plots(experiment_file4, trial_name_str4)"
   ]
  },
  {
   "cell_type": "code",
   "execution_count": null,
   "id": "1f6dd17a",
   "metadata": {},
   "outputs": [],
   "source": [
    "experiment_file5 = b1_c5_psi\n",
    "trial_name_str5 = \"b1_c5_psi\"\n",
    "update_ix5, unique_dec_lst5, dec_lst5, times_lst5, emg_lst5, pref_lst5, pact_lst5, vint_lst5, vdec_lst5 = user_analysis_plots(experiment_file5, trial_name_str5)"
   ]
  },
  {
   "cell_type": "code",
   "execution_count": null,
   "id": "3bd2e598",
   "metadata": {},
   "outputs": [],
   "source": [
    "experiment_file6 = b1_c6_prr\n",
    "trial_name_str6 = \"b1_c6_prr\"\n",
    "update_ix6, unique_dec_lst6, dec_lst6, times_lst6, emg_lst6, pref_lst6, pact_lst6, vint_lst6, vdec_lst6 = user_analysis_plots(experiment_file6, trial_name_str6)"
   ]
  },
  {
   "cell_type": "code",
   "execution_count": null,
   "id": "312a5663",
   "metadata": {},
   "outputs": [],
   "source": [
    "experiment_file7 = b1_c7_prs\n",
    "trial_name_str7 = \"b1_c7_prs\"\n",
    "update_ix7, unique_dec_lst7, dec_lst7, times_lst7, emg_lst7, pref_lst7, pact_lst7, vint_lst7, vdec_lst7 = user_analysis_plots(experiment_file7, trial_name_str7)"
   ]
  },
  {
   "cell_type": "markdown",
   "id": "f978c130",
   "metadata": {},
   "source": [
    "### Block 2"
   ]
  },
  {
   "cell_type": "code",
   "execution_count": null,
   "id": "d5c39141",
   "metadata": {},
   "outputs": [],
   "source": [
    "experiment_file0_b2 = b2_c0_lri\n",
    "trial_name_str0_b2 = \"b2_c0_lri\"\n",
    "update_ix0_b2, unique_dec_lst0_b2, dec_lst0_b2, times_lst0_b2, emg_lst0_b2, pref_lst0_b2, pact_lst0_b2, vint_lst0_b2, vdec_lst0_b2 = user_analysis_plots(experiment_file0_b2, trial_name_str0_b2)"
   ]
  },
  {
   "cell_type": "code",
   "execution_count": null,
   "id": "bd5fb2ea",
   "metadata": {},
   "outputs": [],
   "source": [
    "experiment_file1_b2 = b2_c1_lpli\n",
    "trial_name_str1_b2 = \"b2_c1_lpli\"\n",
    "update_ix1_b2, unique_dec_lst1_b2, dec_lst1_b2, times_lst1_b2, emg_lst1_b2, pref_lst1_b2, pact_lst1_b2, vint_lst1_b2, vdec_lst1_b2 = user_analysis_plots(experiment_file1_b2, trial_name_str1_b2)"
   ]
  },
  {
   "cell_type": "code",
   "execution_count": null,
   "id": "d95df585",
   "metadata": {},
   "outputs": [],
   "source": [
    "experiment_file2_b2 = b2_c2_lsi\n",
    "trial_name_str2_b2 = \"b2_c2_lsi\"\n",
    "update_ix2_b2, unique_dec_lst2_b2, dec_lst2_b2, times_lst2_b2, emg_lst2_b2, pref_lst2_b2, pact_lst2_b2, vint_lst2_b2, vdec_lst2_b2 = user_analysis_plots(experiment_file2_b2, trial_name_str2_b2)"
   ]
  },
  {
   "cell_type": "code",
   "execution_count": null,
   "id": "0e77a53b",
   "metadata": {},
   "outputs": [],
   "source": [
    "experiment_file3_b2 = b2_c3_st\n",
    "trial_name_str3_b2 = \"b2_c3_st\"\n",
    "STATIC = True\n",
    "update_ix3_b2 = copy.deepcopy(manual_update_ix)\n",
    "\n",
    "_, _, dec_lst3_b2, times_lst3_b2, emg_lst3_b2, pref_lst3_b2, pact_lst3_b2, vint_lst3_b2, vdec_lst3_b2 = load_data(experiment_file3_b2, static=STATIC)\n",
    "_, _ = plot_time_domain_error(pref_lst3_b2, pact_lst3_b2, movavg_window_size=1001)\n",
    "\n",
    "print(f\"LEN TIMES: {len(times_lst3_b2)}\")\n",
    "update_ix3_b2.append(len(times_lst3_b2))\n",
    "\n",
    "plot_single_initial_final_boxplot(update_ix3_b2, pref_lst3_b2, pact_lst3_b2, my_title=f\"{trial_name_str3_b2}: TD Pos Error Across Trial\")\n",
    "plot_cost_function(emg_lst3_b2, dec_lst3_b2, pref_lst3_b2, pact_lst3_b2, alphaD=trial_alphaD, alphaE=trial_alphaE, plot_2nd_half_separately=True, plot_separately=True, plot_combined=True, remove_spikes=True)\n"
   ]
  },
  {
   "cell_type": "code",
   "execution_count": null,
   "id": "93d769c3",
   "metadata": {},
   "outputs": [],
   "source": [
    "experiment_file4_b2 = b2_c4_pri\n",
    "trial_name_str4_b2 = \"b2_c4_pri\"\n",
    "update_ix4_b2, unique_dec_lst4_b2, dec_lst4_b2, times_lst4_b2, emg_lst4_b2, pref_lst4_b2, pact_lst4_b2, vint_lst4_b2, vdec_lst4_b2 = user_analysis_plots(experiment_file1, trial_name_str1)"
   ]
  },
  {
   "cell_type": "code",
   "execution_count": null,
   "id": "cc44b794",
   "metadata": {},
   "outputs": [],
   "source": [
    "experiment_file5_b2 = b2_c5_psi\n",
    "trial_name_str5_b2 = \"b2_c5_psi\"\n",
    "update_ix5_b2, unique_dec_lst5_b2, dec_lst5_b2, times_lst5_b2, emg_lst5_b2, pref_lst5_b2, pact_lst5_b2, vint_lst5_b2, vdec_lst5_b2 = user_analysis_plots(experiment_file5_b2, trial_name_str5_b2)"
   ]
  },
  {
   "cell_type": "code",
   "execution_count": null,
   "id": "6ea1daa6",
   "metadata": {},
   "outputs": [],
   "source": [
    "experiment_file6_b2 = b2_c6_prr\n",
    "trial_name_str6_b2 = \"b2_c6_prr\"\n",
    "update_ix6_b2, unique_dec_lst6_b2, dec_lst6_b2, times_lst6_b2, emg_lst6_b2, pref_lst6_b2, pact_lst6_b2, vint_lst6_b2, vdec_lst6_b2 = user_analysis_plots(experiment_file6_b2, trial_name_str6_b2)"
   ]
  },
  {
   "cell_type": "code",
   "execution_count": null,
   "id": "adf06228",
   "metadata": {},
   "outputs": [],
   "source": [
    "experiment_file7_b2 = b2_c7_prs\n",
    "trial_name_str7_b2 = \"b2_c7_prs\"\n",
    "update_ix7_b2, unique_dec_lst7_b2, dec_lst7_b2, times_lst7_b2, emg_lst7_b2, pref_lst7_b2, pact_lst7_b2, vint_lst7_b2, vdec_lst7_b2 = user_analysis_plots(experiment_file7_b2, trial_name_str7_b2)"
   ]
  },
  {
   "cell_type": "markdown",
   "id": "16dc2cae",
   "metadata": {},
   "source": [
    "# Create Aggregated Lists For Boxplots and Dumbell Plots\n",
    "- Should I create separate lists for B1 and B2 ...\n",
    "- Am I trying to plot B1 and B2 together or on separate plots...\n",
    "- If together, should they be overlapping"
   ]
  },
  {
   "cell_type": "code",
   "execution_count": null,
   "id": "cb9399a1",
   "metadata": {},
   "outputs": [],
   "source": [
    "update_ix_lst = [update_ix0, update_ix1, update_ix2, update_ix3, update_ix4, update_ix5, update_ix6, update_ix7]\n",
    "pref_lst = [pref_lst0, pref_lst1, pref_lst2, pref_lst3, pref_lst4, pref_lst5, pref_lst6, pref_lst7]\n",
    "pact_lst = [pact_lst0, pact_lst1, pact_lst2, pact_lst3, pact_lst4, pact_lst5, pact_lst6, pact_lst7]\n",
    "D_lst = [dec_lst0, dec_lst1, dec_lst2, dec_lst3, dec_lst4, dec_lst5, dec_lst6, dec_lst7]\n",
    "F_lst = [emg_lst0, emg_lst1, emg_lst2, emg_lst3, emg_lst4, emg_lst5, emg_lst6, emg_lst7]\n",
    "\n",
    "update_ix_lst_b2 = [update_ix0_b2, update_ix1_b2, update_ix2_b2, update_ix3_b2, update_ix4_b2, update_ix5_b2, update_ix6_b2, update_ix7_b2]\n",
    "pref_lst_b2 = [pref_lst0_b2, pref_lst1_b2, pref_lst2_b2, pref_lst3_b2, pref_lst4_b2, pref_lst5_b2, pref_lst6_b2, pref_lst7_b2]\n",
    "pact_lst_b2 = [pact_lst0_b2, pact_lst1_b2, pact_lst2_b2, pact_lst3_b2, pact_lst4_b2, pact_lst5_b2, pact_lst6_b2, pact_lst7_b2]\n",
    "D_lst_b2 = [dec_lst0_b2, dec_lst1_b2, dec_lst2_b2, dec_lst3_b2, dec_lst4_b2, dec_lst5_b2, dec_lst6_b2, dec_lst7_b2]\n",
    "F_lst_b2 = [emg_lst0_b2, emg_lst1_b2, emg_lst2_b2, emg_lst3_b2, emg_lst4_b2, emg_lst5_b2, emg_lst6_b2, emg_lst7_b2]"
   ]
  },
  {
   "cell_type": "markdown",
   "id": "fe7f2768",
   "metadata": {},
   "source": [
    "## Box Plots"
   ]
  },
  {
   "cell_type": "code",
   "execution_count": null,
   "id": "5f1522d5",
   "metadata": {},
   "outputs": [],
   "source": [
    "boxplot_trial_names_lst = [trial_name_str0+\"_I\", trial_name_str0+\"_F\",\n",
    "                           trial_name_str1+\"_I\", trial_name_str1+\"_F\",\n",
    "                           trial_name_str2+\"_I\", trial_name_str2+\"_F\", \n",
    "                           trial_name_str3+\"_I\", trial_name_str3+\"_F\", \n",
    "                           trial_name_str4+\"_I\", trial_name_str4+\"_F\", \n",
    "                           trial_name_str5+\"_I\", trial_name_str5+\"_F\",\n",
    "                           trial_name_str6+\"_I\", trial_name_str6+\"_F\",\n",
    "                           trial_name_str7+\"_I\", trial_name_str7+\"_F\"]"
   ]
  },
  {
   "cell_type": "markdown",
   "id": "e606242e",
   "metadata": {},
   "source": [
    "> BLOCK 1"
   ]
  },
  {
   "cell_type": "code",
   "execution_count": null,
   "id": "bbd1ec61",
   "metadata": {},
   "outputs": [],
   "source": [
    "plot_multiple_final_initial_position_error_boxplots(update_ix_lst, pref_lst, pact_lst, trial_names_lst=boxplot_trial_names_lst, my_title=f\"B1 {SUBJECT_STR} FPS TD Pos Error Across Time&Trials\")\n"
   ]
  },
  {
   "cell_type": "code",
   "execution_count": null,
   "id": "403fab37",
   "metadata": {
    "scrolled": true
   },
   "outputs": [],
   "source": [
    "plot_multiple_final_initial_cost_func_boxplots(update_ix_lst, F_lst, D_lst, pref_lst, pact_lst, trial_names_lst=boxplot_trial_names_lst, my_title=f\"B1 {SUBJECT_STR} FPS Cost Func Across Time&Trials\")\n"
   ]
  },
  {
   "cell_type": "markdown",
   "id": "ede76ec1",
   "metadata": {},
   "source": [
    "> BLOCK 2"
   ]
  },
  {
   "cell_type": "code",
   "execution_count": null,
   "id": "45a28505",
   "metadata": {},
   "outputs": [],
   "source": [
    "plot_multiple_final_initial_position_error_boxplots(update_ix_lst_b2, pref_lst_b2, pact_lst_b2, trial_names_lst=boxplot_trial_names_lst, my_title=f\"B2 {SUBJECT_STR} FPS TD Pos Error Across Time&Trials\")\n"
   ]
  },
  {
   "cell_type": "code",
   "execution_count": null,
   "id": "da27b398",
   "metadata": {},
   "outputs": [],
   "source": [
    "plot_multiple_final_initial_cost_func_boxplots(update_ix_lst_b2, F_lst_b2, D_lst_b2, pref_lst_b2, pact_lst_b2, trial_names_lst=boxplot_trial_names_lst, my_title=f\"B2 {SUBJECT_STR} FPS Cost Func Across Time&Trials\")\n"
   ]
  },
  {
   "cell_type": "markdown",
   "id": "68d310a6",
   "metadata": {},
   "source": [
    "## Dumbbell Plots"
   ]
  },
  {
   "cell_type": "code",
   "execution_count": null,
   "id": "88ccd902",
   "metadata": {},
   "outputs": [],
   "source": [
    "dumbbell_trial_names_lst = [trial_name_str0, trial_name_str1, trial_name_str2, trial_name_str3, trial_name_str4, trial_name_str5, trial_name_str6, trial_name_str7]"
   ]
  },
  {
   "cell_type": "markdown",
   "id": "89cc336c",
   "metadata": {},
   "source": [
    "> BLOCK 1"
   ]
  },
  {
   "cell_type": "code",
   "execution_count": null,
   "id": "9070eb4e",
   "metadata": {},
   "outputs": [],
   "source": [
    "plot_multiple_final_initial_position_error_dumbbell_plots(update_ix_lst, pref_lst, pact_lst, trial_names_lst=dumbbell_trial_names_lst, my_title=f\"B1 {SUBJECT_STR} FPS TD Pos Error Across Time&Trials\")\n"
   ]
  },
  {
   "cell_type": "code",
   "execution_count": null,
   "id": "09309f8f",
   "metadata": {},
   "outputs": [],
   "source": [
    "plot_multiple_final_initial_cost_func_dumbbell_plots(update_ix_lst, F_lst, D_lst, pref_lst, pact_lst, trial_names_lst=dumbbell_trial_names_lst, my_title=f\"B1 {SUBJECT_STR} FPS Cost Func Across Time&Trials\")\n"
   ]
  },
  {
   "cell_type": "markdown",
   "id": "1b756359",
   "metadata": {},
   "source": [
    "> BLOCK 2"
   ]
  },
  {
   "cell_type": "code",
   "execution_count": null,
   "id": "d5cb75b6",
   "metadata": {},
   "outputs": [],
   "source": [
    "plot_multiple_final_initial_position_error_dumbbell_plots(update_ix_lst_b2, pref_lst_b2, pact_lst_b2, trial_names_lst=dumbbell_trial_names_lst, my_title=f\"B2 {SUBJECT_STR} FPS TD Pos Error Across Time&Trials\")\n"
   ]
  },
  {
   "cell_type": "code",
   "execution_count": null,
   "id": "feacf7ed",
   "metadata": {},
   "outputs": [],
   "source": [
    "plot_multiple_final_initial_cost_func_dumbbell_plots(update_ix_lst_b2, F_lst_b2, D_lst_b2, pref_lst_b2, pact_lst_b2, trial_names_lst=dumbbell_trial_names_lst, my_title=f\"B2 {SUBJECT_STR} FPS Cost Func Across Time&Trials\")\n"
   ]
  },
  {
   "cell_type": "markdown",
   "id": "2693819e",
   "metadata": {},
   "source": [
    "## Printing Final Update Losses Only\n",
    "- Doing so in order to get around potential distortion from including init loss\n",
    "- The last update (regardless of if it's full or not) is dropped by default in load_data()"
   ]
  },
  {
   "cell_type": "code",
   "execution_count": null,
   "id": "360ed5e4",
   "metadata": {},
   "outputs": [],
   "source": [
    "# These things are all defined:\n",
    "#update_ix_lst, F_lst, D_lst, pref_lst, pact_lst\n",
    "\n",
    "trial_names_lst = dumbbell_trial_names_lst\n",
    "my_title = f\"{SUBJECT_STR} FPS Final Cost\"\n",
    "\n",
    "#def plot_multiple_final_initial_cost_func_dumbbell_plots(update_ix_lst, F_lst, D_lst, pref_lst, pact_lst, files_to_load_in=None, trial_names_lst=None, my_title=\"Change in Cost Func Across Trials\", ticks_fontsize=16, title_fontsize=22, labels_fontsize=20, legend_fontsize=14):\n",
    "\n",
    "num_separate_trials = len(update_ix_lst)\n",
    "    \n",
    "# Create the Dumbbell Plot\n",
    "fig, ax = plt.subplots(figsize=(10, 8))\n",
    "for i in range(num_separate_trials):\n",
    "    update_ix = update_ix_lst[i]\n",
    "    pref = pref_lst[i]\n",
    "    pact = pact_lst[i]\n",
    "    F = F_lst[i]\n",
    "    D = D_lst[i]\n",
    "    \n",
    "    pref_npy_finalup = np.array(pref[update_ix[-2]:])\n",
    "    pact_npy_finalup = np.array(pact[update_ix[-2]:])\n",
    "    F_npy_finalup = np.array(F[update_ix[-2]:])\n",
    "    D_npy_finalup = np.array(D[update_ix[-2]:])\n",
    "\n",
    "    cost_log_finalup, _, _ = calc_cost_function(F_npy_finalup, D_npy_finalup, pref_npy_finalup, pact_npy_finalup)\n",
    "    avg_cost_log_finalup = np.mean(cost_log_finalup)\n",
    "    ax.scatter(i, avg_cost_log_finalup, color='red', s=100, zorder=2)\n",
    "ax.set_xticks(range(num_separate_trials))\n",
    "if trial_names_lst is not None:\n",
    "    ax.set_xticklabels(trial_names_lst, rotation=90)\n",
    "ax.set_ylabel('Loss', fontsize=labels_fontsize)\n",
    "ax.set_ylim(0.0, 0.002)  # Set y-axis limits\n",
    "ax.set_xlabel('Trial', fontsize=labels_fontsize)\n",
    "ax.set_title(my_title, fontsize=title_fontsize)\n",
    "#ax.legend(loc='best', fontsize=legend_fontsize)\n",
    "plt.show()"
   ]
  },
  {
   "cell_type": "code",
   "execution_count": null,
   "id": "ff32a963",
   "metadata": {},
   "outputs": [],
   "source": []
  }
 ],
 "metadata": {
  "kernelspec": {
   "display_name": "Python 3",
   "language": "python",
   "name": "python3"
  },
  "language_info": {
   "codemirror_mode": {
    "name": "ipython",
    "version": 3
   },
   "file_extension": ".py",
   "mimetype": "text/x-python",
   "name": "python",
   "nbconvert_exporter": "python",
   "pygments_lexer": "ipython3",
   "version": "3.6.8"
  }
 },
 "nbformat": 4,
 "nbformat_minor": 5
}
